{
 "cells": [
  {
   "cell_type": "markdown",
   "metadata": {},
   "source": [
    "### Импорт библиотек"
   ]
  },
  {
   "cell_type": "code",
   "execution_count": 13,
   "metadata": {},
   "outputs": [],
   "source": [
    "from sentence_transformers import SentenceTransformer, util\n",
    "from typing import List\n",
    "import os"
   ]
  },
  {
   "cell_type": "markdown",
   "metadata": {},
   "source": [
    "### Глобальные переменные"
   ]
  },
  {
   "cell_type": "code",
   "execution_count": 2,
   "metadata": {},
   "outputs": [],
   "source": [
    "os.environ['HF_HOME'] = \"../.cache\"\n",
    "DEVICE=\"cpu\""
   ]
  },
  {
   "cell_type": "code",
   "execution_count": 6,
   "metadata": {},
   "outputs": [],
   "source": [
    "origin_sentence_1 = \"Не включилось РУ6\"\n",
    "origin_sentence_2 = \"Не включилось шестое реле управления\"\n",
    "\n",
    "sentences = [\n",
    "    'Не включилось РУ6',\n",
    "    'РУ6 не включилось',\n",
    "    'не включилось шестое реле управления',\n",
    "    'Реле РУ6 срабатывает, но не включается реле времени РВ1, РВ2',\n",
    "    'При нажатии кнопки \"Пуск дизеля\" (все нужные автоматы включены) КМН не включается.',\n",
    "    'При нажатии кнопки \"Пуск дизеля\" контактор КМН включается, но маслопрокачивающий насос не работает',\n",
    "    'При пуске прокачка масла есть (60-90 сек), но после отключения КМН пусковые контакторы не включаются',\n",
    "    'При нажатии кнопки \"ПД\" включаются пусковые контакторы без предварительной прокачки масла'\n",
    "]"
   ]
  },
  {
   "cell_type": "code",
   "execution_count": 14,
   "metadata": {},
   "outputs": [],
   "source": [
    "def test_model_fro_sentence_similarity(\n",
    "    model_name: str,\n",
    "    origin_sentence: str,\n",
    "    sentences: List[str]\n",
    ") -> None:\n",
    "    model = SentenceTransformer(model_name, device=DEVICE)\n",
    "\n",
    "    # Количество параметров модели\n",
    "    print(f\"{sum(p.numel() for p in model.parameters() if p.requires_grad)/1e6}M\")\n",
    "\n",
    "    origin_embedding = model.encode(origin_sentence, convert_to_tensor=True)\n",
    "\n",
    "    embeddings = [model.encode(sentence, convert_to_tensor=True) for sentence in sentences]\n",
    "\n",
    "    print(\"#1\")\n",
    "    for i in embeddings:\n",
    "        print(util.pytorch_cos_sim(origin_embedding, i))"
   ]
  },
  {
   "cell_type": "code",
   "execution_count": 19,
   "metadata": {},
   "outputs": [
    {
     "name": "stdout",
     "output_type": "stream",
     "text": [
      "278.043648M\n",
      "#1\n",
      "tensor([[1.0000]])\n",
      "tensor([[0.9779]])\n",
      "tensor([[0.5935]])\n",
      "tensor([[0.8557]])\n",
      "tensor([[0.3786]])\n",
      "tensor([[0.3393]])\n",
      "tensor([[0.3274]])\n",
      "tensor([[0.2902]])\n",
      "278.043648M\n",
      "#1\n",
      "tensor([[0.5823]])\n",
      "tensor([[0.5928]])\n",
      "tensor([[0.9917]])\n",
      "tensor([[0.5877]])\n",
      "tensor([[0.5676]])\n",
      "tensor([[0.4925]])\n",
      "tensor([[0.4647]])\n",
      "tensor([[0.4784]])\n"
     ]
    }
   ],
   "source": [
    "# model_name = \"sentence-transformers/all-MiniLM-L6-v2\"\n",
    "# test_model_fro_sentence_similarity(model_name, origin_sentence_1, sentences)\n",
    "\n",
    "# test_model_fro_sentence_similarity(model_name, origin_sentence_2, sentences)\n",
    "\n",
    "# model_name = \"sentence-transformers/all-MiniLM-L12-v2\"\n",
    "# test_model_fro_sentence_similarity(model_name, origin_sentence_1, sentences)\n",
    "\n",
    "# test_model_fro_sentence_similarity(model_name, origin_sentence_2, sentences)\n",
    "\n",
    "# model_name = \"sentence-transformers/paraphrase-multilingual-MiniLM-L12-v2\"\n",
    "# test_model_fro_sentence_similarity(model_name, origin_sentence_1, sentences)\n",
    "\n",
    "# test_model_fro_sentence_similarity(model_name, origin_sentence_2, sentences)\n",
    "\n",
    "# model_name = \"intfloat/multilingual-e5-base\"\n",
    "# test_model_fro_sentence_similarity(model_name, origin_sentence_1, sentences)\n",
    "\n",
    "# test_model_fro_sentence_similarity(model_name, origin_sentence_2, sentences)\n",
    "\n",
    "model_name = \"sentence-transformers/paraphrase-multilingual-mpnet-base-v2\"\n",
    "test_model_fro_sentence_similarity(model_name, origin_sentence_1, sentences)\n",
    "\n",
    "test_model_fro_sentence_similarity(model_name, origin_sentence_2, sentences)\n",
    "\n",
    "model_name = \"sentence-transformers/LaBSE\",\n",
    "model_name = \"inkoziev/sbert_synonymy\"\n",
    "model_name = \"uaritm/multilingual_en_ru_uk\""
   ]
  },
  {
   "cell_type": "markdown",
   "metadata": {},
   "source": [
    "Сразу видна проблема: при расшифровке сокращений сходство сильно падает.\n",
    "Возможное решение: дополнительно зранить расшифрованные записи."
   ]
  }
 ],
 "metadata": {
  "kernelspec": {
   "display_name": "Python 3.9.11 64-bit",
   "language": "python",
   "name": "python3"
  },
  "language_info": {
   "codemirror_mode": {
    "name": "ipython",
    "version": 3
   },
   "file_extension": ".py",
   "mimetype": "text/x-python",
   "name": "python",
   "nbconvert_exporter": "python",
   "pygments_lexer": "ipython3",
   "version": "3.9.12"
  },
  "orig_nbformat": 4,
  "vscode": {
   "interpreter": {
    "hash": "ba4c651cdc5ec17c511bce19f294202fdc45305f9de1f927c569f32faa173ead"
   }
  }
 },
 "nbformat": 4,
 "nbformat_minor": 2
}
